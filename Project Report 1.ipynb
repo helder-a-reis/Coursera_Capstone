{
    "nbformat_minor": 1, 
    "cells": [
        {
            "source": "# Hipsterhood\n### Applied Data Science Capstone Project (IBM Data Science Professional Certificate)\n### *by Helder Reis, March 2019*\n", 
            "cell_type": "markdown", 
            "metadata": {
                "collapsed": true
            }
        }, 
        {
            "source": "## Introduction", 
            "cell_type": "markdown", 
            "metadata": {}
        }, 
        {
            "source": "Nowadays there is no shortage of resources (websites, apps, magazines) for someone to find the \"coolest\", most \"trendy\" and modern places in any city in the world. Their main target audience seem to be young people who are trendy, stylish - commonly known as [\"hipsters\"](https://www.dictionary.com/browse/hipster). <br />\nWhat seems to have become increasingly difficult is to find \"normal\" places where food is not served on bits of wood and roof slates, chips in mugs and drinks in jam jars. (by the way, I invite you to visit [We Want Plates](http://wewantplates.com/), one of the inspirations for this exercise), usually quite overpriced as well. <br />\n**Hence the goal of this project is to find a \"Neighborhood Hipster Rating\" (\"Hipsterhood\" for short) to help all users find places they are comfortable with.** Although, given the fore mentioned amount of dedicated resources to find \"trending\" places, the target are mostly people looking for those \"normal\" places.<br />\nThis rating could then potentially be used to power a website or an app (out of the scope of this project but that I might do in the future), and improve over time combining user feedback and machine learning techniques. <br />\nDuring the course we used clustering and the Foursquare API to segment and cluster the neighborhoods in the city of New York and Toronto. <br />\nFor this project we will use similar techniques to try to find that Hipsterhood rating, according to the frequency of venues with categories typically associated with the \"hipster lifestyle\" (Organic Grocery, Thrift / Vintage Store, Cupcake Shop, etc). This part is tricky, since \"hipster lifestyle\" is not an exact science, more like a moving target. <br />\nTo better evaluate the results we will use the city of Madrid, where I've been living for a few years hence I'm familiar with.  <br />\nWe will find the rating of each neighborhood, then cluster them into 3 clusters (something like \"Hipster Paradise\", \"Something for everyone\", \"Mostly Traditional\"). <br />\n**Note**: one could write a book on what is \"hipster\" versus \"normal\" (and what is \"normal\" anyway?), the term itself raises [controversy](https://en.wikipedia.org/wiki/Hipster_(contemporary_subculture)#Critical_analysis) and is also associated with bigger issues like [gentrification](https://en.wikipedia.org/wiki/Gentrification). While all that is relevant, it's out of the scope of this exercise, so please take it with the intended humorous approach and a grain of salt!", 
            "cell_type": "markdown", 
            "metadata": {}
        }
    ], 
    "metadata": {
        "kernelspec": {
            "display_name": "Python 3.5", 
            "name": "python3", 
            "language": "python"
        }, 
        "language_info": {
            "mimetype": "text/x-python", 
            "nbconvert_exporter": "python", 
            "version": "3.5.5", 
            "name": "python", 
            "pygments_lexer": "ipython3", 
            "file_extension": ".py", 
            "codemirror_mode": {
                "version": 3, 
                "name": "ipython"
            }
        }
    }, 
    "nbformat": 4
}