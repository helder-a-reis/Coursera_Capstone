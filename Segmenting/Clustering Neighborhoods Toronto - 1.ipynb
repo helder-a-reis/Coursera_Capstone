{
    "nbformat_minor": 1, 
    "cells": [
        {
            "source": "\"Use the Notebook to build the code to scrape the following Wikipedia page, https://en.wikipedia.org/wiki/List_of_postal_codes_of_Canada:_M, in order to obtain the data that is in the table of postal codes and to transform the data into a pandas dataframe\"", 
            "cell_type": "markdown", 
            "metadata": {
                "collapsed": true
            }
        }, 
        {
            "source": "Imports", 
            "cell_type": "markdown", 
            "metadata": {}
        }, 
        {
            "execution_count": 172, 
            "cell_type": "code", 
            "metadata": {}, 
            "outputs": [], 
            "source": "#imports\nfrom bs4 import BeautifulSoup\nimport pandas as pd\nimport requests\nimport numpy as np"
        }, 
        {
            "source": "Get the data from the page", 
            "cell_type": "markdown", 
            "metadata": {}
        }, 
        {
            "execution_count": 178, 
            "cell_type": "code", 
            "metadata": {}, 
            "outputs": [], 
            "source": "html_doc = requests.get('https://en.wikipedia.org/wiki/List_of_postal_codes_of_Canada:_M').text\n#a soup object of the whole page\nsoup = BeautifulSoup(html_doc, 'html.parser')\n\n#just the table we're interested\ntable = soup.find('table', class_='wikitable sortable')\n\n#parse the table entries into a list\nwikis = []\n\nrows = table.find_all('tr')\nfor row in rows:\n    cells = row.find_all('td')\n    if len(cells)==3:\n        postalCode = cells[0].find(text=True)\n        borough = cells[1].find(text=True)\n        neigh = cells[2].find(text=True)\n        \n        #Ignore cells with a borough that is Not assigned\n        if \"Not assigned\" not in borough:\n            #append to list\n            wikis.append([postalCode, borough, neigh])\n        \n#print(wikis)\n        "
        }, 
        {
            "source": "Transform the data into a pandas dataframe and prepare it", 
            "cell_type": "markdown", 
            "metadata": {}
        }, 
        {
            "execution_count": 226, 
            "cell_type": "code", 
            "metadata": {}, 
            "outputs": [], 
            "source": "# define the dataframe columns\ncolumn_names = ['PostalCode', 'Borough', 'Neighborhood'] \n\n# create the dataframe\ndfWikis = pd.DataFrame(wikis, columns=column_names)\n\n#combine neighborhoods in the same boroughs\ndfPostalCode = dfWikis.groupby(['PostalCode','Borough'], sort = False).agg(lambda x: ','.join(x))\n\ndfPostalCode = dfPostalCode.reset_index()\n\n#if a cell has a borough but a Not assigned neighborhood, then the neighborhood will be the same as the borough\ndfPostalCode.where(dfPostalCode['PostalCode'] == 'Not assigned\\n', dfPostalCode['Borough'], inplace=True, axis=0)\n#dfPostalCode = dfGrouped\n"
        }, 
        {
            "source": "Use the .shape method to print the number of rows of the dataframe", 
            "cell_type": "markdown", 
            "metadata": {}
        }, 
        {
            "execution_count": 228, 
            "cell_type": "code", 
            "metadata": {}, 
            "outputs": [
                {
                    "execution_count": 228, 
                    "metadata": {}, 
                    "data": {
                        "text/plain": "(103, 3)"
                    }, 
                    "output_type": "execute_result"
                }
            ], 
            "source": "#dfPostalCodes.shape\ndfPostalCode.shape"
        }, 
        {
            "execution_count": null, 
            "cell_type": "code", 
            "metadata": {}, 
            "outputs": [], 
            "source": ""
        }
    ], 
    "metadata": {
        "kernelspec": {
            "display_name": "Python 3.5", 
            "name": "python3", 
            "language": "python"
        }, 
        "language_info": {
            "mimetype": "text/x-python", 
            "nbconvert_exporter": "python", 
            "version": "3.5.5", 
            "name": "python", 
            "file_extension": ".py", 
            "pygments_lexer": "ipython3", 
            "codemirror_mode": {
                "version": 3, 
                "name": "ipython"
            }
        }
    }, 
    "nbformat": 4
}