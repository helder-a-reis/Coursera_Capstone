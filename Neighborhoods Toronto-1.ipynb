{
    "nbformat_minor": 1, 
    "cells": [
        {
            "source": "\"Use the Notebook to build the code to scrape the following Wikipedia page, https://en.wikipedia.org/wiki/List_of_postal_codes_of_Canada:_M, in order to obtain the data that is in the table of postal codes and to transform the data into a pandas dataframe\"", 
            "cell_type": "markdown", 
            "metadata": {
                "collapsed": true
            }
        }, 
        {
            "source": "## Imports", 
            "cell_type": "markdown", 
            "metadata": {}
        }, 
        {
            "source": "#imports\nfrom bs4 import BeautifulSoup\nimport pandas as pd\nimport requests\nimport numpy as np", 
            "cell_type": "code", 
            "metadata": {}, 
            "outputs": [], 
            "execution_count": 1
        }, 
        {
            "source": "## Part 1 - Get the data from the page", 
            "cell_type": "markdown", 
            "metadata": {}
        }, 
        {
            "source": "html_doc = requests.get('https://en.wikipedia.org/wiki/List_of_postal_codes_of_Canada:_M').text\n#a soup object of the whole page\nsoup = BeautifulSoup(html_doc, 'html.parser')\n\n#just the table we're interested\ntable = soup.find('table', class_='wikitable sortable')\n\n#parse the table entries into a list\nwikis = []\n\nrows = table.find_all('tr')\nfor row in rows:\n    cells = row.find_all('td')\n    if len(cells)==3:\n        postalCode = cells[0].find(text=True)\n        borough = cells[1].find(text=True)\n        neigh = cells[2].find(text=True)\n        \n        #Ignore cells with a borough that is Not assigned\n        if \"Not assigned\" not in borough:\n            #append to list\n            wikis.append([postalCode, borough, neigh])\n        \nprint(wikis)\n        ", 
            "cell_type": "code", 
            "metadata": {}, 
            "outputs": [
                {
                    "output_type": "stream", 
                    "name": "stdout", 
                    "text": "[['M3A', 'North York', 'Parkwoods'], ['M4A', 'North York', 'Victoria Village'], ['M5A', 'Downtown Toronto', 'Harbourfront'], ['M5A', 'Downtown Toronto', 'Regent Park'], ['M6A', 'North York', 'Lawrence Heights'], ['M6A', 'North York', 'Lawrence Manor'], ['M7A', \"Queen's Park\", 'Not assigned\\n'], ['M9A', 'Etobicoke', 'Islington Avenue'], ['M1B', 'Scarborough', 'Rouge'], ['M1B', 'Scarborough', 'Malvern'], ['M3B', 'North York', 'Don Mills North\\n'], ['M4B', 'East York', 'Woodbine Gardens'], ['M4B', 'East York', 'Parkview Hill'], ['M5B', 'Downtown Toronto', 'Ryerson'], ['M5B', 'Downtown Toronto', 'Garden District\\n'], ['M6B', 'North York', 'Glencairn'], ['M9B', 'Etobicoke', 'Cloverdale\\n'], ['M9B', 'Etobicoke', 'Islington'], ['M9B', 'Etobicoke', 'Martin Grove\\n'], ['M9B', 'Etobicoke', 'Princess Gardens'], ['M9B', 'Etobicoke', 'West Deane Park'], ['M1C', 'Scarborough', 'Highland Creek'], ['M1C', 'Scarborough', 'Rouge Hill'], ['M1C', 'Scarborough', 'Port Union'], ['M3C', 'North York', 'Flemingdon Park'], ['M3C', 'North York', 'Don Mills South\\n'], ['M4C', 'East York', 'Woodbine Heights'], ['M5C', 'Downtown Toronto', 'St. James Town'], ['M6C', 'York', 'Humewood-Cedarvale'], ['M9C', 'Etobicoke', 'Bloordale Gardens\\n'], ['M9C', 'Etobicoke', 'Eringate\\n'], ['M9C', 'Etobicoke', 'Markland Wood'], ['M9C', 'Etobicoke', 'Old Burnhamthorpe\\n'], ['M1E', 'Scarborough', 'Guildwood\\n'], ['M1E', 'Scarborough', 'Morningside'], ['M1E', 'Scarborough', 'West Hill'], ['M4E', 'East Toronto', 'The Beaches'], ['M5E', 'Downtown Toronto', 'Berczy Park'], ['M6E', 'York', 'Caledonia-Fairbanks\\n'], ['M1G', 'Scarborough', 'Woburn'], ['M4G', 'East York', 'Leaside'], ['M5G', 'Downtown Toronto', 'Central Bay Street\\n'], ['M6G', 'Downtown Toronto', 'Christie\\n'], ['M1H', 'Scarborough', 'Cedarbrae'], ['M2H', 'North York', 'Hillcrest Village'], ['M3H', 'North York', 'Bathurst Manor'], ['M3H', 'North York', 'Downsview North\\n'], ['M3H', 'North York', 'Wilson Heights'], ['M4H', 'East York', 'Thorncliffe Park'], ['M5H', 'Downtown Toronto', 'Adelaide'], ['M5H', 'Downtown Toronto', 'King'], ['M5H', 'Downtown Toronto', 'Richmond\\n'], ['M6H', 'West Toronto', 'Dovercourt Village'], ['M6H', 'West Toronto', 'Dufferin\\n'], ['M1J', 'Scarborough', 'Scarborough Village'], ['M2J', 'North York', 'Fairview\\n'], ['M2J', 'North York', 'Henry Farm'], ['M2J', 'North York', 'Oriole\\n'], ['M3J', 'North York', 'Northwood Park'], ['M3J', 'North York', 'York University'], ['M4J', 'East York', 'East Toronto'], ['M5J', 'Downtown Toronto', 'Harbourfront East\\n'], ['M5J', 'Downtown Toronto', 'Toronto Islands'], ['M5J', 'Downtown Toronto', 'Union Station'], ['M6J', 'West Toronto', 'Little Portugal'], ['M6J', 'West Toronto', 'Trinity'], ['M1K', 'Scarborough', 'East Birchmount Park\\n'], ['M1K', 'Scarborough', 'Ionview'], ['M1K', 'Scarborough', 'Kennedy Park'], ['M2K', 'North York', 'Bayview Village'], ['M3K', 'North York', 'CFB Toronto'], ['M3K', 'North York', 'Downsview East\\n'], ['M4K', 'East Toronto', 'The Danforth West\\n'], ['M4K', 'East Toronto', 'Riverdale'], ['M5K', 'Downtown Toronto', 'Design Exchange'], ['M5K', 'Downtown Toronto', 'Toronto Dominion Centre'], ['M6K', 'West Toronto', 'Brockton\\n'], ['M6K', 'West Toronto', 'Exhibition Place'], ['M6K', 'West Toronto', 'Parkdale Village'], ['M1L', 'Scarborough', 'Clairlea'], ['M1L', 'Scarborough', 'Golden Mile'], ['M1L', 'Scarborough', 'Oakridge'], ['M2L', 'North York', 'Silver Hills'], ['M2L', 'North York', 'York Mills'], ['M3L', 'North York', 'Downsview West'], ['M4L', 'East Toronto', 'The Beaches West\\n'], ['M4L', 'East Toronto', 'India Bazaar'], ['M5L', 'Downtown Toronto', 'Commerce Court'], ['M5L', 'Downtown Toronto', 'Victoria Hotel\\n'], ['M6L', 'North York', 'Maple Leaf Park'], ['M6L', 'North York', 'North Park\\n'], ['M6L', 'North York', 'Upwood Park\\n'], ['M9L', 'North York', 'Humber Summit'], ['M1M', 'Scarborough', 'Cliffcrest'], ['M1M', 'Scarborough', 'Cliffside'], ['M1M', 'Scarborough', 'Scarborough Village West\\n'], ['M2M', 'North York', 'Newtonbrook'], ['M2M', 'North York', 'Willowdale'], ['M3M', 'North York', 'Downsview Central\\n'], ['M4M', 'East Toronto', 'Studio District\\n'], ['M5M', 'North York', 'Bedford Park'], ['M5M', 'North York', 'Lawrence Manor East\\n'], ['M6M', 'York', 'Del Ray\\n'], ['M6M', 'York', 'Keelesdale'], ['M6M', 'York', 'Mount Dennis'], ['M6M', 'York', 'Silverthorn'], ['M9M', 'North York', 'Emery'], ['M9M', 'North York', 'Humberlea'], ['M1N', 'Scarborough', 'Birch Cliff'], ['M1N', 'Scarborough', 'Cliffside West\\n'], ['M2N', 'North York', 'Willowdale South\\n'], ['M3N', 'North York', 'Downsview Northwest\\n'], ['M4N', 'Central Toronto', 'Lawrence Park'], ['M5N', 'Central Toronto', 'Roselawn\\n'], ['M6N', 'York', 'The Junction North\\n'], ['M6N', 'York', 'Runnymede\\n'], ['M9N', 'York', 'Weston'], ['M1P', 'Scarborough', 'Dorset Park'], ['M1P', 'Scarborough', 'Scarborough Town Centre'], ['M1P', 'Scarborough', 'Wexford Heights'], ['M2P', 'North York', 'York Mills West\\n'], ['M4P', 'Central Toronto', 'Davisville North\\n'], ['M5P', 'Central Toronto', 'Forest Hill North'], ['M5P', 'Central Toronto', 'Forest Hill West\\n'], ['M6P', 'West Toronto', 'High Park'], ['M6P', 'West Toronto', 'The Junction South\\n'], ['M9P', 'Etobicoke', 'Westmount'], ['M1R', 'Scarborough', 'Maryvale'], ['M1R', 'Scarborough', 'Wexford'], ['M2R', 'North York', 'Willowdale West'], ['M4R', 'Central Toronto', 'North Toronto West\\n'], ['M5R', 'Central Toronto', 'The Annex'], ['M5R', 'Central Toronto', 'North Midtown\\n'], ['M5R', 'Central Toronto', 'Yorkville'], ['M6R', 'West Toronto', 'Parkdale'], ['M6R', 'West Toronto', 'Roncesvalles'], ['M7R', 'Mississauga', 'Canada Post Gateway Processing Centre\\n'], ['M9R', 'Etobicoke', 'Kingsview Village'], ['M9R', 'Etobicoke', 'Martin Grove Gardens\\n'], ['M9R', 'Etobicoke', 'Richview Gardens\\n'], ['M9R', 'Etobicoke', 'St. Phillips\\n'], ['M1S', 'Scarborough', 'Agincourt'], ['M4S', 'Central Toronto', 'Davisville\\n'], ['M5S', 'Downtown Toronto', 'Harbord\\n'], ['M5S', 'Downtown Toronto', 'University of Toronto'], ['M6S', 'West Toronto', 'Runnymede'], ['M6S', 'West Toronto', 'Swansea'], ['M1T', 'Scarborough', 'Clarks Corners\\n'], ['M1T', 'Scarborough', 'Sullivan\\n'], ['M1T', 'Scarborough', \"Tam O'Shanter\"], ['M4T', 'Central Toronto', 'Moore Park'], ['M4T', 'Central Toronto', 'Summerhill East\\n'], ['M5T', 'Downtown Toronto', 'Chinatown'], ['M5T', 'Downtown Toronto', 'Grange Park'], ['M5T', 'Downtown Toronto', 'Kensington Market'], ['M1V', 'Scarborough', 'Agincourt North'], ['M1V', 'Scarborough', \"L'Amoreaux East\\n\"], ['M1V', 'Scarborough', 'Milliken'], ['M1V', 'Scarborough', 'Steeles East\\n'], ['M4V', 'Central Toronto', 'Deer Park'], ['M4V', 'Central Toronto', 'Forest Hill SE\\n'], ['M4V', 'Central Toronto', 'Rathnelly'], ['M4V', 'Central Toronto', 'South Hill'], ['M4V', 'Central Toronto', 'Summerhill West\\n'], ['M5V', 'Downtown Toronto', 'CN Tower'], ['M5V', 'Downtown Toronto', 'Bathurst Quay\\n'], ['M5V', 'Downtown Toronto', 'Island airport\\n'], ['M5V', 'Downtown Toronto', 'Harbourfront West\\n'], ['M5V', 'Downtown Toronto', 'King and Spadina'], ['M5V', 'Downtown Toronto', 'Railway Lands'], ['M5V', 'Downtown Toronto', 'South Niagara'], ['M8V', 'Etobicoke', 'Humber Bay Shores\\n'], ['M8V', 'Etobicoke', 'Mimico South\\n'], ['M8V', 'Etobicoke', 'New Toronto'], ['M9V', 'Etobicoke', 'Albion Gardens\\n'], ['M9V', 'Etobicoke', 'Beaumond Heights'], ['M9V', 'Etobicoke', 'Humbergate\\n'], ['M9V', 'Etobicoke', 'Jamestown'], ['M9V', 'Etobicoke', 'Mount Olive'], ['M9V', 'Etobicoke', 'Silverstone'], ['M9V', 'Etobicoke', 'South Steeles'], ['M9V', 'Etobicoke', 'Thistletown'], ['M1W', 'Scarborough', \"L'Amoreaux West\\n\"], ['M1W', 'Scarborough', 'Steeles West'], ['M4W', 'Downtown Toronto', 'Rosedale'], ['M5W', 'Downtown Toronto', 'Stn A PO Boxes 25 The Esplanade\\n'], ['M8W', 'Etobicoke', 'Alderwood'], ['M8W', 'Etobicoke', 'Long Branch'], ['M9W', 'Etobicoke', 'Northwest'], ['M1X', 'Scarborough', 'Upper Rouge'], ['M4X', 'Downtown Toronto', 'Cabbagetown'], ['M4X', 'Downtown Toronto', 'St. James Town'], ['M5X', 'Downtown Toronto', 'First Canadian Place'], ['M5X', 'Downtown Toronto', 'Underground city'], ['M8X', 'Etobicoke', 'The Kingsway'], ['M8X', 'Etobicoke', 'Montgomery Road\\n'], ['M8X', 'Etobicoke', 'Old Mill North\\n'], ['M4Y', 'Downtown Toronto', 'Church and Wellesley'], ['M7Y', 'East Toronto', 'Business Reply Mail Processing Centre 969 Eastern\\n'], ['M8Y', 'Etobicoke', 'Humber Bay'], ['M8Y', 'Etobicoke', \"King's Mill Park\"], ['M8Y', 'Etobicoke', 'Kingsway Park South East\\n'], ['M8Y', 'Etobicoke', 'Mimico NE'], ['M8Y', 'Etobicoke', 'Old Mill South'], ['M8Y', 'Etobicoke', 'The Queensway East'], ['M8Y', 'Etobicoke', 'Royal York South East'], ['M8Y', 'Etobicoke', 'Sunnylea'], ['M8Z', 'Etobicoke', 'Kingsway Park South West\\n'], ['M8Z', 'Etobicoke', 'Mimico NW'], ['M8Z', 'Etobicoke', 'The Queensway West'], ['M8Z', 'Etobicoke', 'Royal York South West\\n'], ['M8Z', 'Etobicoke', 'South of Bloor']]\n"
                }
            ], 
            "execution_count": 2
        }, 
        {
            "source": "## Transform the data into a pandas dataframe", 
            "cell_type": "markdown", 
            "metadata": {}
        }, 
        {
            "source": "# define the dataframe columns\ncolumn_names = ['PostalCode', 'Borough', 'Neighborhood'] \n\n# create the dataframe\ndfWikis = pd.DataFrame(wikis, columns=column_names)\n\ndfWikis.head()\n", 
            "cell_type": "code", 
            "metadata": {}, 
            "outputs": [
                {
                    "output_type": "execute_result", 
                    "data": {
                        "text/plain": "  PostalCode           Borough      Neighborhood\n0        M3A        North York         Parkwoods\n1        M4A        North York  Victoria Village\n2        M5A  Downtown Toronto      Harbourfront\n3        M5A  Downtown Toronto       Regent Park\n4        M6A        North York  Lawrence Heights", 
                        "text/html": "<div>\n<style scoped>\n    .dataframe tbody tr th:only-of-type {\n        vertical-align: middle;\n    }\n\n    .dataframe tbody tr th {\n        vertical-align: top;\n    }\n\n    .dataframe thead th {\n        text-align: right;\n    }\n</style>\n<table border=\"1\" class=\"dataframe\">\n  <thead>\n    <tr style=\"text-align: right;\">\n      <th></th>\n      <th>PostalCode</th>\n      <th>Borough</th>\n      <th>Neighborhood</th>\n    </tr>\n  </thead>\n  <tbody>\n    <tr>\n      <th>0</th>\n      <td>M3A</td>\n      <td>North York</td>\n      <td>Parkwoods</td>\n    </tr>\n    <tr>\n      <th>1</th>\n      <td>M4A</td>\n      <td>North York</td>\n      <td>Victoria Village</td>\n    </tr>\n    <tr>\n      <th>2</th>\n      <td>M5A</td>\n      <td>Downtown Toronto</td>\n      <td>Harbourfront</td>\n    </tr>\n    <tr>\n      <th>3</th>\n      <td>M5A</td>\n      <td>Downtown Toronto</td>\n      <td>Regent Park</td>\n    </tr>\n    <tr>\n      <th>4</th>\n      <td>M6A</td>\n      <td>North York</td>\n      <td>Lawrence Heights</td>\n    </tr>\n  </tbody>\n</table>\n</div>"
                    }, 
                    "execution_count": 4, 
                    "metadata": {}
                }
            ], 
            "execution_count": 4
        }, 
        {
            "source": "## Prepare the data", 
            "cell_type": "markdown", 
            "metadata": {}
        }, 
        {
            "source": "Combine neighborhoods in the same boroughs", 
            "cell_type": "markdown", 
            "metadata": {}
        }, 
        {
            "source": "dfPostalCode = dfWikis.groupby(['PostalCode','Borough'], sort = False).agg(lambda x: ','.join(x))\ndfPostalCode = dfPostalCode.reset_index()\n#remove the \\n from some \"Neighborhood\" fields\ndfPostalCode.replace({'\\n': ''}, regex=True, inplace=True)\ndfPostalCode.head(10)", 
            "cell_type": "code", 
            "metadata": {}, 
            "outputs": [
                {
                    "output_type": "execute_result", 
                    "data": {
                        "text/plain": "  PostalCode           Borough                     Neighborhood\n0        M3A        North York                        Parkwoods\n1        M4A        North York                 Victoria Village\n2        M5A  Downtown Toronto         Harbourfront,Regent Park\n3        M6A        North York  Lawrence Heights,Lawrence Manor\n4        M7A      Queen's Park                     Not assigned\n5        M9A         Etobicoke                 Islington Avenue\n6        M1B       Scarborough                    Rouge,Malvern\n7        M3B        North York                  Don Mills North\n8        M4B         East York   Woodbine Gardens,Parkview Hill\n9        M5B  Downtown Toronto          Ryerson,Garden District", 
                        "text/html": "<div>\n<style scoped>\n    .dataframe tbody tr th:only-of-type {\n        vertical-align: middle;\n    }\n\n    .dataframe tbody tr th {\n        vertical-align: top;\n    }\n\n    .dataframe thead th {\n        text-align: right;\n    }\n</style>\n<table border=\"1\" class=\"dataframe\">\n  <thead>\n    <tr style=\"text-align: right;\">\n      <th></th>\n      <th>PostalCode</th>\n      <th>Borough</th>\n      <th>Neighborhood</th>\n    </tr>\n  </thead>\n  <tbody>\n    <tr>\n      <th>0</th>\n      <td>M3A</td>\n      <td>North York</td>\n      <td>Parkwoods</td>\n    </tr>\n    <tr>\n      <th>1</th>\n      <td>M4A</td>\n      <td>North York</td>\n      <td>Victoria Village</td>\n    </tr>\n    <tr>\n      <th>2</th>\n      <td>M5A</td>\n      <td>Downtown Toronto</td>\n      <td>Harbourfront,Regent Park</td>\n    </tr>\n    <tr>\n      <th>3</th>\n      <td>M6A</td>\n      <td>North York</td>\n      <td>Lawrence Heights,Lawrence Manor</td>\n    </tr>\n    <tr>\n      <th>4</th>\n      <td>M7A</td>\n      <td>Queen's Park</td>\n      <td>Not assigned</td>\n    </tr>\n    <tr>\n      <th>5</th>\n      <td>M9A</td>\n      <td>Etobicoke</td>\n      <td>Islington Avenue</td>\n    </tr>\n    <tr>\n      <th>6</th>\n      <td>M1B</td>\n      <td>Scarborough</td>\n      <td>Rouge,Malvern</td>\n    </tr>\n    <tr>\n      <th>7</th>\n      <td>M3B</td>\n      <td>North York</td>\n      <td>Don Mills North</td>\n    </tr>\n    <tr>\n      <th>8</th>\n      <td>M4B</td>\n      <td>East York</td>\n      <td>Woodbine Gardens,Parkview Hill</td>\n    </tr>\n    <tr>\n      <th>9</th>\n      <td>M5B</td>\n      <td>Downtown Toronto</td>\n      <td>Ryerson,Garden District</td>\n    </tr>\n  </tbody>\n</table>\n</div>"
                    }, 
                    "execution_count": 22, 
                    "metadata": {}
                }
            ], 
            "execution_count": 22
        }, 
        {
            "source": "If a cell has a borough but a Not assigned neighborhood, then the neighborhood will be the same as the borough", 
            "cell_type": "markdown", 
            "metadata": {}
        }, 
        {
            "source": "for index, row in dfPostalCode.iterrows():\n    if row['Neighborhood'] == 'Not assigned':\n        row['Neighborhood'] = row['Borough']\n\ndfPostalCode.head(10)", 
            "cell_type": "code", 
            "metadata": {}, 
            "outputs": [
                {
                    "output_type": "execute_result", 
                    "data": {
                        "text/plain": "  PostalCode           Borough                     Neighborhood\n0        M3A        North York                        Parkwoods\n1        M4A        North York                 Victoria Village\n2        M5A  Downtown Toronto         Harbourfront,Regent Park\n3        M6A        North York  Lawrence Heights,Lawrence Manor\n4        M7A      Queen's Park                     Queen's Park\n5        M9A         Etobicoke                 Islington Avenue\n6        M1B       Scarborough                    Rouge,Malvern\n7        M3B        North York                  Don Mills North\n8        M4B         East York   Woodbine Gardens,Parkview Hill\n9        M5B  Downtown Toronto          Ryerson,Garden District", 
                        "text/html": "<div>\n<style scoped>\n    .dataframe tbody tr th:only-of-type {\n        vertical-align: middle;\n    }\n\n    .dataframe tbody tr th {\n        vertical-align: top;\n    }\n\n    .dataframe thead th {\n        text-align: right;\n    }\n</style>\n<table border=\"1\" class=\"dataframe\">\n  <thead>\n    <tr style=\"text-align: right;\">\n      <th></th>\n      <th>PostalCode</th>\n      <th>Borough</th>\n      <th>Neighborhood</th>\n    </tr>\n  </thead>\n  <tbody>\n    <tr>\n      <th>0</th>\n      <td>M3A</td>\n      <td>North York</td>\n      <td>Parkwoods</td>\n    </tr>\n    <tr>\n      <th>1</th>\n      <td>M4A</td>\n      <td>North York</td>\n      <td>Victoria Village</td>\n    </tr>\n    <tr>\n      <th>2</th>\n      <td>M5A</td>\n      <td>Downtown Toronto</td>\n      <td>Harbourfront,Regent Park</td>\n    </tr>\n    <tr>\n      <th>3</th>\n      <td>M6A</td>\n      <td>North York</td>\n      <td>Lawrence Heights,Lawrence Manor</td>\n    </tr>\n    <tr>\n      <th>4</th>\n      <td>M7A</td>\n      <td>Queen's Park</td>\n      <td>Queen's Park</td>\n    </tr>\n    <tr>\n      <th>5</th>\n      <td>M9A</td>\n      <td>Etobicoke</td>\n      <td>Islington Avenue</td>\n    </tr>\n    <tr>\n      <th>6</th>\n      <td>M1B</td>\n      <td>Scarborough</td>\n      <td>Rouge,Malvern</td>\n    </tr>\n    <tr>\n      <th>7</th>\n      <td>M3B</td>\n      <td>North York</td>\n      <td>Don Mills North</td>\n    </tr>\n    <tr>\n      <th>8</th>\n      <td>M4B</td>\n      <td>East York</td>\n      <td>Woodbine Gardens,Parkview Hill</td>\n    </tr>\n    <tr>\n      <th>9</th>\n      <td>M5B</td>\n      <td>Downtown Toronto</td>\n      <td>Ryerson,Garden District</td>\n    </tr>\n  </tbody>\n</table>\n</div>"
                    }, 
                    "execution_count": 25, 
                    "metadata": {}
                }
            ], 
            "execution_count": 25
        }, 
        {
            "source": "Use the .shape method to print the number of rows of the dataframe", 
            "cell_type": "markdown", 
            "metadata": {}
        }, 
        {
            "source": "#dfPostalCodes.shape\ndfPostalCode.shape", 
            "cell_type": "code", 
            "metadata": {}, 
            "outputs": [
                {
                    "output_type": "execute_result", 
                    "data": {
                        "text/plain": "(103, 3)"
                    }, 
                    "execution_count": 26, 
                    "metadata": {}
                }
            ], 
            "execution_count": 26
        }, 
        {
            "source": "", 
            "cell_type": "code", 
            "metadata": {}, 
            "outputs": [], 
            "execution_count": null
        }
    ], 
    "metadata": {
        "kernelspec": {
            "display_name": "Python 3.5", 
            "name": "python3", 
            "language": "python"
        }, 
        "language_info": {
            "mimetype": "text/x-python", 
            "nbconvert_exporter": "python", 
            "version": "3.5.5", 
            "name": "python", 
            "pygments_lexer": "ipython3", 
            "file_extension": ".py", 
            "codemirror_mode": {
                "version": 3, 
                "name": "ipython"
            }
        }
    }, 
    "nbformat": 4
}