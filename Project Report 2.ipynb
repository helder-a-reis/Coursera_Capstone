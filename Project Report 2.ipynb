{
    "nbformat_minor": 1, 
    "cells": [
        {
            "source": "# Hipsterhood\n### Applied Data Science Capstone Project (IBM Data Science Professional Certificate)\n### *by Helder Reis, March 2019*\n", 
            "cell_type": "markdown", 
            "metadata": {
                "collapsed": true
            }
        }, 
        {
            "source": "## Introduction", 
            "cell_type": "markdown", 
            "metadata": {}
        }, 
        {
            "source": "Nowadays there is no shortage of resources (websites, apps, magazines) for someone to find the \"coolest\", most \"trendy\" and modern places in any city in the world. Their main target audience seem to be young people who are trendy, stylish - commonly known as [\"hipsters\"](https://www.dictionary.com/browse/hipster). <br />\nWhat seems to have become increasingly difficult is to find \"normal\" places where food is not served on bits of wood and roof slates, chips in mugs and drinks in jam jars. (by the way, I invite you to visit [We Want Plates](http://wewantplates.com/), one of the inspirations for this exercise), usually quite overpriced as well. <br />\n**Hence the goal of this project is to find a \"Neighborhood Hipster Rating\" (\"Hipsterhood\" for short) to help all users find places they are comfortable with.** Although, given the fore mentioned amount of dedicated resources to find \"trending\" places, the target are mostly people looking for those \"normal\" places.<br />\nThis rating could then potentially be used to power a website or an app (out of the scope of this project but that I might do in the future), and improve over time combining user feedback and machine learning techniques. <br />\nDuring the course we used clustering and the Foursquare API to segment and cluster the neighborhoods in the city of New York and Toronto. <br />\nFor this project we will use similar techniques to try to find that Hipsterhood rating, according to the frequency of venues with categories typically associated with the \"hipster lifestyle\" (Organic Grocery, Thrift / Vintage Store, Cupcake Shop, etc). This part is tricky, since \"hipster lifestyle\" is not an exact science, more like a moving target. <br />\nTo better evaluate the results we will use the city of Madrid, where I've been living for a few years hence I'm familiar with.  <br />\nWe will find the rating of each neighborhood, then cluster them into 3 clusters (something like \"Hipster Paradise\", \"Something for everyone\", \"Mostly Traditional\"). <br />\n**Note**: one could write a book on what is \"hipster\" versus \"normal\" (and what is \"normal\" anyway?), the term itself raises [controversy](https://en.wikipedia.org/wiki/Hipster_(contemporary_subculture)#Critical_analysis) and is also associated with bigger issues like [gentrification](https://en.wikipedia.org/wiki/Gentrification). While all that is relevant, it's out of the scope of this project, so please take it with the intended humorous approach and a grain of salt!", 
            "cell_type": "markdown", 
            "metadata": {}
        }, 
        {
            "source": "## Data", 
            "cell_type": "markdown", 
            "metadata": {}
        }, 
        {
            "source": "#### City data\nAs mentioned in the introduction we will use the city of Madrid for this project. <br />\nAccording to [this Wikipedia entry](https://en.wikipedia.org/wiki/List_of_wards_of_Madrid) \"Madrid, the capital city of Spain, is divided into 21 districts (distritos), which are further subdivided into 128 wards (barrios).\". <br />\nHowever, given the scope of this project it makes more sense to use [this list](https://www.esmadrid.com/barrios-de-madrid) of the most famous 18 neighborhoods in Madrid, even if some of them (like Chueca or Malasa\u00f1a) aren't actual official neighborhoods. <br />\nCode should be structured in a way that's easy to in the future use a different city to do a similar analysis.\n#### Venue data\nAs described in the project requirements we will use the Foursquare location data. Like in the course we will get a list of venues for each of the neighborhoods, although we will get a list of **all** venues as opposed to the \"trendy\" ones used before, since that would defeat the purpose of the project.<br />\nWe will focus on the venues category, although it would be very useful to get the venue details since the tips section contains words that could help us further classify a venue (and in the future even an image analysis of the pictures posted could give some good hints). And example of this would be [this place](https://foursquare.com/v/pum-pum-caf%C3%A9/56f51eb9498e7a4c1f61ac7b?tasteId=52cb360d498e49ae1f58c966), which is classified as \"Coffee Shop\" but contains good additional information in the tips.\n#### Categories\nFoursquare has available a [list of categories](https://developer.foursquare.com/docs/resources/categories), which can also be imported via the API. We will trim this down to leave only the clearly \"hipster\" categories (Organic Grocery, Thrift / Vintage Store, Indie Theater, Cupcake Shop, etc). There are many categories that include venues that could fit our criteria, such as Coffee Shop, Bakery, Concert Hall, etc, but we would need further info to classify these, requiring a \"hipster rating\" for individual venues. Will be out of scope for now, but an idea for future improvement.\n#### Calculations\nThe rating for each neighborhood will be calculated as a function of the weight of venues associated with the \"hipster categories\" in the overall number of venues for each neighborhood. The clustering shall place each of the neighborhoods in one of the 3 clusters mentioned in the introduction.", 
            "cell_type": "markdown", 
            "metadata": {}
        }, 
        {
            "source": "", 
            "cell_type": "code", 
            "metadata": {}, 
            "outputs": [], 
            "execution_count": null
        }
    ], 
    "metadata": {
        "kernelspec": {
            "display_name": "Python 3.5", 
            "name": "python3", 
            "language": "python"
        }, 
        "language_info": {
            "mimetype": "text/x-python", 
            "nbconvert_exporter": "python", 
            "version": "3.5.5", 
            "name": "python", 
            "pygments_lexer": "ipython3", 
            "file_extension": ".py", 
            "codemirror_mode": {
                "version": 3, 
                "name": "ipython"
            }
        }
    }, 
    "nbformat": 4
}